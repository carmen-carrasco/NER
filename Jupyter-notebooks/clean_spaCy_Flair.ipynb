{
 "cells": [
  {
   "cell_type": "markdown",
   "id": "44477509",
   "metadata": {},
   "source": [
    "# 1. Clean the text"
   ]
  },
  {
   "cell_type": "code",
   "execution_count": null,
   "id": "0cc82457",
   "metadata": {},
   "outputs": [],
   "source": [
    "# Read the file\n",
    "with open('dirty_txt/eduardo_l_holmberg_horacio_kaliban.txt', 'r', encoding='utf-8') as file:\n",
    "    text = file.readlines()\n",
    "\n",
    "# Remove unnecessary line breaks and join split words\n",
    "text_modified = \"\"\n",
    "for line in text:\n",
    "    line = line.strip()\n",
    "    if line.endswith(\"¬\"):\n",
    "        text_modified += line[:-1]\n",
    "    else:\n",
    "        text_modified += line + \" \"\n",
    "\n",
    "# Write the modified text back to the file\n",
    "with open('clean_first_txt/eduardo_l_holmberg_horacio_kaliban_cor.txt', 'w', encoding='utf-8') as file:\n",
    "    file.write(text_modified)\n",
    "\n",
    "print(\"Process completed. The modified text has been saved in 'clean_first_txt/antonio_jose_valdes_delirio_II_cor.txt'.\")"
   ]
  },
  {
   "cell_type": "markdown",
   "id": "9446a8cd",
   "metadata": {},
   "source": [
    "# 2. Tokenization with spaCy"
   ]
  },
  {
   "cell_type": "code",
   "execution_count": 1,
   "id": "b5bc7ff2",
   "metadata": {},
   "outputs": [
    {
     "name": "stdout",
     "output_type": "stream",
     "text": [
      "El resultado se ha guardado en annotated_with_Flair\n"
     ]
    }
   ],
   "source": [
    "# Tokenizacion\n",
    "\n",
    "import spacy\n",
    "\n",
    "# Load the spaCy Spanish model\n",
    "nlp = spacy.load(\"es_core_news_sm\")\n",
    "\n",
    "# Read the text\n",
    "with open('clean_first_txt/eduardo_l_holmberg_horacio_kaliban_cor.txt', 'r', encoding='utf-8') as file:\n",
    "    text = file.read()\n",
    "\n",
    "# Process the text with spaCy\n",
    "doc = nlp(text)\n",
    "\n",
    "# Tokens\n",
    "tokens = [token.text for token in doc]\n",
    "\n",
    "# Save tokens in a file\n",
    "with open('spaCy_and_Flair/eduardo_l_holmberg_horacio_kaliban_tokenized.txt', 'w', encoding='utf-8') as f:\n",
    "    for token in tokens:\n",
    "        f.write(token + '\\n')\n",
    "        \n",
    "print(\"The result has been saved in spaCy_and_Flair\")"
   ]
  },
  {
   "cell_type": "markdown",
   "id": "f437c374",
   "metadata": {},
   "source": [
    "# 3. NER with Flair"
   ]
  },
  {
   "cell_type": "code",
   "execution_count": 1,
   "id": "9792c227",
   "metadata": {},
   "outputs": [
    {
     "name": "stdout",
     "output_type": "stream",
     "text": [
      "2024-07-31 09:49:24,165 SequenceTagger predicts: Dictionary with 20 tags: <unk>, O, S-LOC, S-ORG, B-PER, I-PER, E-PER, S-MISC, B-ORG, E-ORG, S-PER, I-ORG, B-LOC, E-LOC, B-MISC, E-MISC, I-MISC, I-LOC, <START>, <STOP>\n",
      "El resultado se ha guardado en annotated_with_Flair\n"
     ]
    }
   ],
   "source": [
    "from flair.data import Sentence\n",
    "from flair.models import SequenceTagger\n",
    "\n",
    "# Load Flair NER model\n",
    "tagger = SequenceTagger.load(\"flair/ner-spanish-large\")\n",
    "\n",
    "# Read the tokens in the tokenized file \n",
    "with open('annotated_with_Flair/eduardo_l_holmberg_horacio_kaliban_tokenized.txt', 'r', encoding='utf-8') as file:\n",
    "    tokens = file.readlines()\n",
    "\n",
    "# Create sentences with the tokens \n",
    "sentences = [Sentence(token.strip()) for token in tokens]\n",
    "\n",
    "# Predict NER tags for each sentence\n",
    "for sentence in sentences:\n",
    "    tagger.predict(sentence)\n",
    "\n",
    "# Tag words and save in a file \n",
    "with open('spaCy_and_Flair/eduardo_l_holmberg_horacio_kaliban_annotated.txt', 'w', encoding='utf-8') as output_file:\n",
    "    prev_tag = 'O'\n",
    "    for token, sentence in zip(tokens, sentences):\n",
    "        token = token.strip()\n",
    "        tag = 'O'\n",
    "        if any(span.tag == 'LOC' for span in sentence.get_spans('ner')):\n",
    "            tag = 'B-LOC' if prev_tag == 'O' else 'I-LOC'\n",
    "        output_file.write(token + ' ' + tag + '\\n')\n",
    "        prev_tag = tag\n",
    "\n",
    "print(\"The result has been saved in spaCy_and_Flair\")"
   ]
  },
  {
   "cell_type": "markdown",
   "id": "9f32b1a4",
   "metadata": {},
   "source": [
    "# Correction"
   ]
  },
  {
   "cell_type": "code",
   "execution_count": 2,
   "id": "6f741e4b",
   "metadata": {},
   "outputs": [
    {
     "name": "stdout",
     "output_type": "stream",
     "text": [
      "El archivo ha sido corregido y guardado\n"
     ]
    }
   ],
   "source": [
    "import re\n",
    "\n",
    "def add_blank_lines_correctly(text):\n",
    "    # Usar una expresión regular para encontrar las líneas con punto seguido de 'O'\n",
    "    corrected_text = re.sub(r'(\\. O)\\n', r'\\1\\n\\n', text)\n",
    "    corrected_text = re.sub(r'(! O)\\n', r'\\1\\n\\n', corrected_text)\n",
    "    corrected_text = re.sub(r'(\\? O)\\n', r'\\1\\n\\n', corrected_text)\n",
    "    corrected_text = re.sub(r'(; O)\\n', r'\\1\\n\\n', corrected_text)\n",
    "    corrected_text = re.sub(r'(: O)\\n', r'\\1\\n\\n', corrected_text)\n",
    "    return corrected_text\n",
    "\n",
    "# Read the file\n",
    "with open('spaCy_and_Flair/eduardo_l_holmberg_horacio_kaliban_annotated.txt', 'r', encoding='utf-8') as file:\n",
    "    text = file.read()\n",
    "\n",
    "# Correct the file\n",
    "corrected_text = add_blank_lines_correctly(text)\n",
    "\n",
    "# Save the new file\n",
    "with open('spaCy_and_Flair/eduardo_l_holmberg_horacio_kaliban_annotated_corrected.txt', 'w', encoding='utf-8') as file:\n",
    "    file.write(corrected_text)\n",
    "\n",
    "print(\"The result has been saved in spaCy_and_Flair\")"
   ]
  },
  {
   "cell_type": "code",
   "execution_count": null,
   "id": "95da543f",
   "metadata": {},
   "outputs": [],
   "source": []
  }
 ],
 "metadata": {
  "kernelspec": {
   "display_name": "Python 3 (ipykernel)",
   "language": "python",
   "name": "python3"
  },
  "language_info": {
   "codemirror_mode": {
    "name": "ipython",
    "version": 3
   },
   "file_extension": ".py",
   "mimetype": "text/x-python",
   "name": "python",
   "nbconvert_exporter": "python",
   "pygments_lexer": "ipython3",
   "version": "3.11.7"
  }
 },
 "nbformat": 4,
 "nbformat_minor": 5
}
