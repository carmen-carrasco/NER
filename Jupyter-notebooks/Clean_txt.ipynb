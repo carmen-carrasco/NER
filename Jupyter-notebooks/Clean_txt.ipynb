{
 "cells": [
  {
   "cell_type": "code",
   "execution_count": 2,
   "id": "496d7ff1",
   "metadata": {},
   "outputs": [
    {
     "name": "stdout",
     "output_type": "stream",
     "text": [
      "Process completed. The modified text has been saved in 'clean_first_txt/antonio_jose_valdes_delirio_II_cor.txt'.\n"
     ]
    }
   ],
   "source": [
    "# Read the file\n",
    "with open('dirty_txt/eduardo_l_holmberg_horacio_kaliban.txt', 'r', encoding='utf-8') as file:\n",
    "    text = file.readlines()\n",
    "\n",
    "# Remove unnecessary line breaks and join split words\n",
    "text_modified = \"\"\n",
    "for line in text:\n",
    "    line = line.strip()\n",
    "    if line.endswith(\"¬\"):\n",
    "        text_modified += line[:-1]\n",
    "    else:\n",
    "        text_modified += line + \" \"\n",
    "\n",
    "# Write the modified text back to the file\n",
    "with open('clean_first_txt/eduardo_l_holmberg_horacio_kaliban_cor.txt', 'w', encoding='utf-8') as file:\n",
    "    file.write(text_modified)\n",
    "\n",
    "print(\"Process completed. The modified text has been saved in 'clean_first_txt/antonio_jose_valdes_delirio_II_cor.txt'.\")"
   ]
  },
  {
   "cell_type": "code",
   "execution_count": null,
   "id": "67c8dbf9",
   "metadata": {},
   "outputs": [],
   "source": []
  }
 ],
 "metadata": {
  "kernelspec": {
   "display_name": "Python 3 (ipykernel)",
   "language": "python",
   "name": "python3"
  },
  "language_info": {
   "codemirror_mode": {
    "name": "ipython",
    "version": 3
   },
   "file_extension": ".py",
   "mimetype": "text/x-python",
   "name": "python",
   "nbconvert_exporter": "python",
   "pygments_lexer": "ipython3",
   "version": "3.11.7"
  }
 },
 "nbformat": 4,
 "nbformat_minor": 5
}
